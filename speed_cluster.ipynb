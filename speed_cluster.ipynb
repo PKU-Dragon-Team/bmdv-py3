{
 "metadata": {
  "name": "",
  "signature": "sha256:8bf85429808757401e5b740f1be66843d48797189ee39e4b9a0dd1fdfcd1db1f"
 },
 "nbformat": 3,
 "nbformat_minor": 0,
 "worksheets": [
  {
   "cells": [
    {
     "cell_type": "heading",
     "level": 1,
     "metadata": {},
     "source": [
      "\u8bfb\u53d6\u6570\u636e"
     ]
    },
    {
     "cell_type": "code",
     "collapsed": false,
     "input": [
      "%matplotlib inline\n",
      "\n",
      "import pandas as pd\n",
      "from sklearn.cluster import KMeans\n",
      "from kcluster import silhouette_score\n",
      "import numpy as np\n",
      "from sklearn.preprocessing import scale\n",
      "import kcluster\n",
      "from scipy.spatial.distance import correlation"
     ],
     "language": "python",
     "metadata": {},
     "outputs": [],
     "prompt_number": 48
    },
    {
     "cell_type": "code",
     "collapsed": false,
     "input": [
      "df = pd.read_csv('speeds.csv', names=['uid', 'date'] + range(1, 49), dtype={'date': str, 'uid': str})\n",
      "df.head()"
     ],
     "language": "python",
     "metadata": {},
     "outputs": [
      {
       "html": [
        "<div style=\"max-height:1000px;max-width:1500px;overflow:auto;\">\n",
        "<table border=\"1\" class=\"dataframe\">\n",
        "  <thead>\n",
        "    <tr style=\"text-align: right;\">\n",
        "      <th></th>\n",
        "      <th>uid</th>\n",
        "      <th>date</th>\n",
        "      <th>1</th>\n",
        "      <th>2</th>\n",
        "      <th>3</th>\n",
        "      <th>4</th>\n",
        "      <th>5</th>\n",
        "      <th>6</th>\n",
        "      <th>7</th>\n",
        "      <th>8</th>\n",
        "      <th>...</th>\n",
        "      <th>39</th>\n",
        "      <th>40</th>\n",
        "      <th>41</th>\n",
        "      <th>42</th>\n",
        "      <th>43</th>\n",
        "      <th>44</th>\n",
        "      <th>45</th>\n",
        "      <th>46</th>\n",
        "      <th>47</th>\n",
        "      <th>48</th>\n",
        "    </tr>\n",
        "  </thead>\n",
        "  <tbody>\n",
        "    <tr>\n",
        "      <th>0</th>\n",
        "      <td> 31430787</td>\n",
        "      <td> 20131201</td>\n",
        "      <td> 0</td>\n",
        "      <td> 0</td>\n",
        "      <td> 0</td>\n",
        "      <td> 0</td>\n",
        "      <td> 0</td>\n",
        "      <td> 0</td>\n",
        "      <td> 0</td>\n",
        "      <td> 0</td>\n",
        "      <td>...</td>\n",
        "      <td> 0.000000</td>\n",
        "      <td> 0.000000</td>\n",
        "      <td> 0</td>\n",
        "      <td> 0.000000</td>\n",
        "      <td> 0</td>\n",
        "      <td> 0</td>\n",
        "      <td> 0.000000</td>\n",
        "      <td> 0.000000</td>\n",
        "      <td> 0</td>\n",
        "      <td> 0</td>\n",
        "    </tr>\n",
        "    <tr>\n",
        "      <th>1</th>\n",
        "      <td> 31430787</td>\n",
        "      <td> 20131202</td>\n",
        "      <td> 0</td>\n",
        "      <td> 0</td>\n",
        "      <td> 0</td>\n",
        "      <td> 0</td>\n",
        "      <td> 0</td>\n",
        "      <td> 0</td>\n",
        "      <td> 0</td>\n",
        "      <td> 0</td>\n",
        "      <td>...</td>\n",
        "      <td> 1.574487</td>\n",
        "      <td> 0.975857</td>\n",
        "      <td> 0</td>\n",
        "      <td> 0.944295</td>\n",
        "      <td> 0</td>\n",
        "      <td> 0</td>\n",
        "      <td> 0.000000</td>\n",
        "      <td> 0.000000</td>\n",
        "      <td> 0</td>\n",
        "      <td> 0</td>\n",
        "    </tr>\n",
        "    <tr>\n",
        "      <th>2</th>\n",
        "      <td> 31430787</td>\n",
        "      <td> 20131203</td>\n",
        "      <td> 0</td>\n",
        "      <td> 0</td>\n",
        "      <td> 0</td>\n",
        "      <td> 0</td>\n",
        "      <td> 0</td>\n",
        "      <td> 0</td>\n",
        "      <td> 0</td>\n",
        "      <td> 0</td>\n",
        "      <td>...</td>\n",
        "      <td> 1.466358</td>\n",
        "      <td> 0.000000</td>\n",
        "      <td> 0</td>\n",
        "      <td> 0.000000</td>\n",
        "      <td> 0</td>\n",
        "      <td> 0</td>\n",
        "      <td> 0.000000</td>\n",
        "      <td> 0.000000</td>\n",
        "      <td> 0</td>\n",
        "      <td> 0</td>\n",
        "    </tr>\n",
        "    <tr>\n",
        "      <th>3</th>\n",
        "      <td> 31430787</td>\n",
        "      <td> 20131204</td>\n",
        "      <td> 0</td>\n",
        "      <td> 0</td>\n",
        "      <td> 0</td>\n",
        "      <td> 0</td>\n",
        "      <td> 0</td>\n",
        "      <td> 0</td>\n",
        "      <td> 0</td>\n",
        "      <td> 0</td>\n",
        "      <td>...</td>\n",
        "      <td> 0.996552</td>\n",
        "      <td> 0.000000</td>\n",
        "      <td> 0</td>\n",
        "      <td> 0.000000</td>\n",
        "      <td> 0</td>\n",
        "      <td> 0</td>\n",
        "      <td> 0.982532</td>\n",
        "      <td> 0.994735</td>\n",
        "      <td> 0</td>\n",
        "      <td> 0</td>\n",
        "    </tr>\n",
        "    <tr>\n",
        "      <th>4</th>\n",
        "      <td> 31430787</td>\n",
        "      <td> 20131205</td>\n",
        "      <td> 0</td>\n",
        "      <td> 0</td>\n",
        "      <td> 0</td>\n",
        "      <td> 0</td>\n",
        "      <td> 0</td>\n",
        "      <td> 0</td>\n",
        "      <td> 0</td>\n",
        "      <td> 0</td>\n",
        "      <td>...</td>\n",
        "      <td> 0.000000</td>\n",
        "      <td> 0.000000</td>\n",
        "      <td> 0</td>\n",
        "      <td> 0.000000</td>\n",
        "      <td> 0</td>\n",
        "      <td> 0</td>\n",
        "      <td> 0.000000</td>\n",
        "      <td> 0.000000</td>\n",
        "      <td> 0</td>\n",
        "      <td> 0</td>\n",
        "    </tr>\n",
        "  </tbody>\n",
        "</table>\n",
        "<p>5 rows \u00d7 50 columns</p>\n",
        "</div>"
       ],
       "metadata": {},
       "output_type": "pyout",
       "prompt_number": 5,
       "text": [
        "        uid      date  1  2  3  4  5  6  7  8 ...        39        40  41  \\\n",
        "0  31430787  20131201  0  0  0  0  0  0  0  0 ...  0.000000  0.000000   0   \n",
        "1  31430787  20131202  0  0  0  0  0  0  0  0 ...  1.574487  0.975857   0   \n",
        "2  31430787  20131203  0  0  0  0  0  0  0  0 ...  1.466358  0.000000   0   \n",
        "3  31430787  20131204  0  0  0  0  0  0  0  0 ...  0.996552  0.000000   0   \n",
        "4  31430787  20131205  0  0  0  0  0  0  0  0 ...  0.000000  0.000000   0   \n",
        "\n",
        "         42  43  44        45        46  47  48  \n",
        "0  0.000000   0   0  0.000000  0.000000   0   0  \n",
        "1  0.944295   0   0  0.000000  0.000000   0   0  \n",
        "2  0.000000   0   0  0.000000  0.000000   0   0  \n",
        "3  0.000000   0   0  0.982532  0.994735   0   0  \n",
        "4  0.000000   0   0  0.000000  0.000000   0   0  \n",
        "\n",
        "[5 rows x 50 columns]"
       ]
      }
     ],
     "prompt_number": 5
    },
    {
     "cell_type": "heading",
     "level": 2,
     "metadata": {},
     "source": [
      "\u6309\u7167\u79fb\u52a8\u65f6\u6bb5\u805a\u7c7b"
     ]
    },
    {
     "cell_type": "markdown",
     "metadata": {},
     "source": [
      "\u8ba1\u7b97\u6bcf\u5929\u6709\u79fb\u52a8\u7684\u65f6\u6bb5"
     ]
    },
    {
     "cell_type": "code",
     "collapsed": false,
     "input": [
      "def move_count(row):\n",
      "    cnt = 0\n",
      "    for i in xrange(1, 49):\n",
      "        if row[i] >= 0.3:\n",
      "            cnt += 1\n",
      "    return cnt\n",
      "\n",
      "\n",
      "df['move_count'] = df.apply(move_count, axis=1)\n",
      "df['move_count'].head()"
     ],
     "language": "python",
     "metadata": {},
     "outputs": [
      {
       "metadata": {},
       "output_type": "pyout",
       "prompt_number": 6,
       "text": [
        "0    11\n",
        "1     6\n",
        "2     5\n",
        "3     6\n",
        "4     2\n",
        "Name: move_count, dtype: int64"
       ]
      }
     ],
     "prompt_number": 6
    },
    {
     "cell_type": "code",
     "collapsed": false,
     "input": [
      "df.head()[range(1, 49)].T.plot(subplots=True, style='-o')"
     ],
     "language": "python",
     "metadata": {},
     "outputs": [
      {
       "metadata": {},
       "output_type": "pyout",
       "prompt_number": 7,
       "text": [
        "array([<matplotlib.axes.AxesSubplot object at 0x115dcee90>,\n",
        "       <matplotlib.axes.AxesSubplot object at 0x10ac75bd0>,\n",
        "       <matplotlib.axes.AxesSubplot object at 0x10ac9b950>,\n",
        "       <matplotlib.axes.AxesSubplot object at 0x104a7eb90>,\n",
        "       <matplotlib.axes.AxesSubplot object at 0x104ae0350>], dtype=object)"
       ]
      },
      {
       "metadata": {},
       "output_type": "display_data",
       "png": "[encoded data removed]",
       "text": [
        "<matplotlib.figure.Figure at 0x10ab7ab90>"
       ]
      }
     ],
     "prompt_number": 7
    },
    {
     "cell_type": "code",
     "collapsed": false,
     "input": [
      "uid_move_count_mean = df.groupby('uid')['move_count'].mean()\n",
      "uid_move_count_mean.head()\n",
      "uid_move_count_mean.hist(bins=50)"
     ],
     "language": "python",
     "metadata": {},
     "outputs": [
      {
       "metadata": {},
       "output_type": "pyout",
       "prompt_number": 8,
       "text": [
        "<matplotlib.axes.AxesSubplot at 0x10aea8390>"
       ]
      },
      {
       "metadata": {},
       "output_type": "display_data",
       "png": "[encoded data removed]",
       "text": [
        "<matplotlib.figure.Figure at 0x10aea1ed0>"
       ]
      }
     ],
     "prompt_number": 8
    },
    {
     "cell_type": "code",
     "collapsed": false,
     "input": [
      "km = KMeans(n_clusters=2)\n",
      "labels = km.fit_predict(uid_move_count_mean.values[:, np.newaxis])\n",
      "print pd.Series(km.cluster_centers_.reshape(1, 2)[0])\n",
      "print pd.Series(labels).value_counts()"
     ],
     "language": "python",
     "metadata": {},
     "outputs": [
      {
       "output_type": "stream",
       "stream": "stdout",
       "text": [
        "0    2.170081\n",
        "1    6.869887\n",
        "dtype: float64\n",
        "0    11649\n",
        "1     4567\n",
        "dtype: int64\n"
       ]
      }
     ],
     "prompt_number": 9
    },
    {
     "cell_type": "markdown",
     "metadata": {},
     "source": [
      "\u4e24\u4e2a\u805a\u7c7b\uff0c\u4e00\u4e2a\u662f\u79fb\u52a8\u65f6\u95f4\u57281.8\u4e00\u4e2a\u662f6.0\n",
      "\n",
      "\u540e\u9762\u6309\u7167\u8282\u5047\u65e5\u4e0e\u975e\u8282\u5047\u65e5\u505a\u533a\u5206"
     ]
    },
    {
     "cell_type": "code",
     "collapsed": false,
     "input": [
      "holidays = ['01', '07', '08', '14', '15', '21', '22', '28', '29']\n",
      "weekends = map(lambda x: '201312' + x, holidays)\n",
      "\n",
      "weekdays_df = df[~df.date.isin(weekends)]\n",
      "weekends_df = df[df.date.isin(weekends)]\n",
      "\n",
      "print weekdays_df['move_count'].describe()\n",
      "print weekends_df['move_count'].describe()\n",
      "print df['move_count'].describe()"
     ],
     "language": "python",
     "metadata": {},
     "outputs": [
      {
       "output_type": "stream",
       "stream": "stdout",
       "text": [
        "count    340177.000000\n",
        "mean          3.640378\n",
        "std           4.226478\n",
        "min           0.000000\n",
        "25%           0.000000\n",
        "50%           2.000000\n",
        "75%           6.000000\n",
        "max          46.000000\n",
        "Name: move_count, dtype: float64\n",
        "count    137700.000000\n",
        "mean          3.176507\n",
        "std           4.050216\n",
        "min           0.000000\n",
        "25%           0.000000\n",
        "50%           2.000000\n",
        "75%           5.000000\n",
        "max          46.000000\n",
        "Name: move_count, dtype: float64\n",
        "count    477877.000000\n",
        "mean          3.506714\n",
        "std           4.181728\n",
        "min           0.000000\n",
        "25%           0.000000\n",
        "50%           2.000000\n",
        "75%           5.000000\n",
        "max          46.000000\n",
        "Name: move_count, dtype: float64"
       ]
      },
      {
       "output_type": "stream",
       "stream": "stdout",
       "text": [
        "\n"
       ]
      }
     ],
     "prompt_number": 10
    },
    {
     "cell_type": "code",
     "collapsed": false,
     "input": [
      "import pylab\n",
      "fig, axes = pylab.subplots(1, 2, sharey=True)\n",
      "weekday_uid_move_count_mean = weekdays_df.groupby('uid')['move_count'].mean()\n",
      "weekday_uid_move_count_mean.plot(kind='hist', bins=50, label='weekday', ax=axes[0], legend=True)\n",
      "weekend_uid_move_count_mean = weekends_df.groupby('uid')['move_count'].mean()\n",
      "weekend_uid_move_count_mean.plot(kind='hist', bins=50, label='weekend', ax=axes[1], color='g', legend=True)"
     ],
     "language": "python",
     "metadata": {},
     "outputs": [
      {
       "metadata": {},
       "output_type": "pyout",
       "prompt_number": 11,
       "text": [
        "<matplotlib.axes.AxesSubplot at 0x10b0ba210>"
       ]
      },
      {
       "metadata": {},
       "output_type": "display_data",
       "png": "[encoded data removed]",
       "text": [
        "<matplotlib.figure.Figure at 0x10af60190>"
       ]
      }
     ],
     "prompt_number": 11
    },
    {
     "cell_type": "code",
     "collapsed": false,
     "input": [
      "weekday_uid_move_count_mean.name = 'weekday_move_count'\n",
      "weekend_uid_move_count_mean.name = 'weekend_move_count'\n",
      "uid_move_count_mean = pd.concat([weekday_uid_move_count_mean, weekend_uid_move_count_mean], axis=1)\n",
      "uid_move_count_mean.head()"
     ],
     "language": "python",
     "metadata": {},
     "outputs": [
      {
       "html": [
        "<div style=\"max-height:1000px;max-width:1500px;overflow:auto;\">\n",
        "<table border=\"1\" class=\"dataframe\">\n",
        "  <thead>\n",
        "    <tr style=\"text-align: right;\">\n",
        "      <th></th>\n",
        "      <th>weekday_move_count</th>\n",
        "      <th>weekend_move_count</th>\n",
        "    </tr>\n",
        "    <tr>\n",
        "      <th>uid</th>\n",
        "      <th></th>\n",
        "      <th></th>\n",
        "    </tr>\n",
        "  </thead>\n",
        "  <tbody>\n",
        "    <tr>\n",
        "      <th>100300253</th>\n",
        "      <td> 2.842105</td>\n",
        "      <td> 1.571429</td>\n",
        "    </tr>\n",
        "    <tr>\n",
        "      <th>100986463</th>\n",
        "      <td> 3.363636</td>\n",
        "      <td> 2.428571</td>\n",
        "    </tr>\n",
        "    <tr>\n",
        "      <th>101565725</th>\n",
        "      <td> 3.772727</td>\n",
        "      <td> 1.222222</td>\n",
        "    </tr>\n",
        "    <tr>\n",
        "      <th>101568979</th>\n",
        "      <td> 2.272727</td>\n",
        "      <td> 0.666667</td>\n",
        "    </tr>\n",
        "    <tr>\n",
        "      <th>101570557</th>\n",
        "      <td> 1.789474</td>\n",
        "      <td> 0.714286</td>\n",
        "    </tr>\n",
        "  </tbody>\n",
        "</table>\n",
        "</div>"
       ],
       "metadata": {},
       "output_type": "pyout",
       "prompt_number": 12,
       "text": [
        "           weekday_move_count  weekend_move_count\n",
        "uid                                              \n",
        "100300253            2.842105            1.571429\n",
        "100986463            3.363636            2.428571\n",
        "101565725            3.772727            1.222222\n",
        "101568979            2.272727            0.666667\n",
        "101570557            1.789474            0.714286"
       ]
      }
     ],
     "prompt_number": 12
    },
    {
     "cell_type": "code",
     "collapsed": false,
     "input": [
      "k = 2\n",
      "km = KMeans(n_clusters=k)\n",
      "labels = km.fit_predict((uid_move_count_mean.values))\n",
      "labels = pd.Series(labels, index=uid_move_count_mean.index)\n",
      "\n",
      "for i in range(k):\n",
      "    print uid_move_count_mean.ix[labels == i].mean()\n",
      "    print '=' * 10\n",
      "print pd.Series(labels).value_counts()"
     ],
     "language": "python",
     "metadata": {},
     "outputs": [
      {
       "output_type": "stream",
       "stream": "stdout",
       "text": [
        "weekday_move_count    2.308556\n",
        "weekend_move_count    1.908350\n",
        "dtype: float64\n",
        "==========\n",
        "weekday_move_count    7.039813\n",
        "weekend_move_count    6.401255\n",
        "dtype: float64\n",
        "==========\n",
        "0    11702\n",
        "1     4514\n",
        "dtype: int64\n"
       ]
      }
     ],
     "prompt_number": 13
    },
    {
     "cell_type": "heading",
     "level": 2,
     "metadata": {},
     "source": [
      "\u5bf9\u6bd4\u663c\u591c\u79fb\u52a8\u65f6\u6bb5"
     ]
    },
    {
     "cell_type": "code",
     "collapsed": false,
     "input": [
      "def work_move_count(row):\n",
      "    cnt = 0\n",
      "    for i in xrange(17, 41):\n",
      "        if row[i] >= 0.3:\n",
      "            cnt += 1\n",
      "    return cnt\n",
      "\n",
      "\n",
      "def night_move_count(row):\n",
      "    cnt = 0\n",
      "    for i in (range(1, 17) + range(41, 49)):\n",
      "        if row[i] >= 0.3:\n",
      "            cnt += 1\n",
      "    return cnt\n",
      "\n",
      "\n",
      "df['work_move_count'] = df.apply(work_move_count, axis=1)\n",
      "df['night_move_count'] = df.apply(night_move_count, axis=1)\n",
      "df[['work_move_count', 'night_move_count']].head()"
     ],
     "language": "python",
     "metadata": {},
     "outputs": [
      {
       "html": [
        "<div style=\"max-height:1000px;max-width:1500px;overflow:auto;\">\n",
        "<table border=\"1\" class=\"dataframe\">\n",
        "  <thead>\n",
        "    <tr style=\"text-align: right;\">\n",
        "      <th></th>\n",
        "      <th>work_move_count</th>\n",
        "      <th>night_move_count</th>\n",
        "    </tr>\n",
        "  </thead>\n",
        "  <tbody>\n",
        "    <tr>\n",
        "      <th>0</th>\n",
        "      <td> 11</td>\n",
        "      <td> 0</td>\n",
        "    </tr>\n",
        "    <tr>\n",
        "      <th>1</th>\n",
        "      <td>  5</td>\n",
        "      <td> 1</td>\n",
        "    </tr>\n",
        "    <tr>\n",
        "      <th>2</th>\n",
        "      <td>  4</td>\n",
        "      <td> 1</td>\n",
        "    </tr>\n",
        "    <tr>\n",
        "      <th>3</th>\n",
        "      <td>  4</td>\n",
        "      <td> 2</td>\n",
        "    </tr>\n",
        "    <tr>\n",
        "      <th>4</th>\n",
        "      <td>  2</td>\n",
        "      <td> 0</td>\n",
        "    </tr>\n",
        "  </tbody>\n",
        "</table>\n",
        "</div>"
       ],
       "metadata": {},
       "output_type": "pyout",
       "prompt_number": 14,
       "text": [
        "   work_move_count  night_move_count\n",
        "0               11                 0\n",
        "1                5                 1\n",
        "2                4                 1\n",
        "3                4                 2\n",
        "4                2                 0"
       ]
      }
     ],
     "prompt_number": 14
    },
    {
     "cell_type": "code",
     "collapsed": false,
     "input": [
      "user_worktime_and_day_move_count = df.groupby('uid')[['work_move_count', 'night_move_count']].mean()\n",
      "user_worktime_and_day_move_count.head()"
     ],
     "language": "python",
     "metadata": {},
     "outputs": [
      {
       "html": [
        "<div style=\"max-height:1000px;max-width:1500px;overflow:auto;\">\n",
        "<table border=\"1\" class=\"dataframe\">\n",
        "  <thead>\n",
        "    <tr style=\"text-align: right;\">\n",
        "      <th></th>\n",
        "      <th>work_move_count</th>\n",
        "      <th>night_move_count</th>\n",
        "    </tr>\n",
        "    <tr>\n",
        "      <th>uid</th>\n",
        "      <th></th>\n",
        "      <th></th>\n",
        "    </tr>\n",
        "  </thead>\n",
        "  <tbody>\n",
        "    <tr>\n",
        "      <th>100300253</th>\n",
        "      <td> 2.307692</td>\n",
        "      <td> 0.192308</td>\n",
        "    </tr>\n",
        "    <tr>\n",
        "      <th>100986463</th>\n",
        "      <td> 2.137931</td>\n",
        "      <td> 1.000000</td>\n",
        "    </tr>\n",
        "    <tr>\n",
        "      <th>101565725</th>\n",
        "      <td> 2.612903</td>\n",
        "      <td> 0.419355</td>\n",
        "    </tr>\n",
        "    <tr>\n",
        "      <th>101568979</th>\n",
        "      <td> 1.225806</td>\n",
        "      <td> 0.580645</td>\n",
        "    </tr>\n",
        "    <tr>\n",
        "      <th>101570557</th>\n",
        "      <td> 1.000000</td>\n",
        "      <td> 0.500000</td>\n",
        "    </tr>\n",
        "  </tbody>\n",
        "</table>\n",
        "</div>"
       ],
       "metadata": {},
       "output_type": "pyout",
       "prompt_number": 15,
       "text": [
        "           work_move_count  night_move_count\n",
        "uid                                         \n",
        "100300253         2.307692          0.192308\n",
        "100986463         2.137931          1.000000\n",
        "101565725         2.612903          0.419355\n",
        "101568979         1.225806          0.580645\n",
        "101570557         1.000000          0.500000"
       ]
      }
     ],
     "prompt_number": 15
    },
    {
     "cell_type": "code",
     "collapsed": false,
     "input": [
      "uid_all_move_count_mean = pd.concat([uid_move_count_mean, user_worktime_and_day_move_count], axis=1)\n",
      "uid_all_move_count_mean.head()"
     ],
     "language": "python",
     "metadata": {},
     "outputs": [
      {
       "html": [
        "<div style=\"max-height:1000px;max-width:1500px;overflow:auto;\">\n",
        "<table border=\"1\" class=\"dataframe\">\n",
        "  <thead>\n",
        "    <tr style=\"text-align: right;\">\n",
        "      <th></th>\n",
        "      <th>weekday_move_count</th>\n",
        "      <th>weekend_move_count</th>\n",
        "      <th>work_move_count</th>\n",
        "      <th>night_move_count</th>\n",
        "    </tr>\n",
        "    <tr>\n",
        "      <th>uid</th>\n",
        "      <th></th>\n",
        "      <th></th>\n",
        "      <th></th>\n",
        "      <th></th>\n",
        "    </tr>\n",
        "  </thead>\n",
        "  <tbody>\n",
        "    <tr>\n",
        "      <th>100300253</th>\n",
        "      <td> 2.842105</td>\n",
        "      <td> 1.571429</td>\n",
        "      <td> 2.307692</td>\n",
        "      <td> 0.192308</td>\n",
        "    </tr>\n",
        "    <tr>\n",
        "      <th>100986463</th>\n",
        "      <td> 3.363636</td>\n",
        "      <td> 2.428571</td>\n",
        "      <td> 2.137931</td>\n",
        "      <td> 1.000000</td>\n",
        "    </tr>\n",
        "    <tr>\n",
        "      <th>101565725</th>\n",
        "      <td> 3.772727</td>\n",
        "      <td> 1.222222</td>\n",
        "      <td> 2.612903</td>\n",
        "      <td> 0.419355</td>\n",
        "    </tr>\n",
        "    <tr>\n",
        "      <th>101568979</th>\n",
        "      <td> 2.272727</td>\n",
        "      <td> 0.666667</td>\n",
        "      <td> 1.225806</td>\n",
        "      <td> 0.580645</td>\n",
        "    </tr>\n",
        "    <tr>\n",
        "      <th>101570557</th>\n",
        "      <td> 1.789474</td>\n",
        "      <td> 0.714286</td>\n",
        "      <td> 1.000000</td>\n",
        "      <td> 0.500000</td>\n",
        "    </tr>\n",
        "  </tbody>\n",
        "</table>\n",
        "</div>"
       ],
       "metadata": {},
       "output_type": "pyout",
       "prompt_number": 16,
       "text": [
        "           weekday_move_count  weekend_move_count  work_move_count  \\\n",
        "uid                                                                  \n",
        "100300253            2.842105            1.571429         2.307692   \n",
        "100986463            3.363636            2.428571         2.137931   \n",
        "101565725            3.772727            1.222222         2.612903   \n",
        "101568979            2.272727            0.666667         1.225806   \n",
        "101570557            1.789474            0.714286         1.000000   \n",
        "\n",
        "           night_move_count  \n",
        "uid                          \n",
        "100300253          0.192308  \n",
        "100986463          1.000000  \n",
        "101565725          0.419355  \n",
        "101568979          0.580645  \n",
        "101570557          0.500000  "
       ]
      }
     ],
     "prompt_number": 16
    },
    {
     "cell_type": "code",
     "collapsed": false,
     "input": [
      "uid_all_move_count_mean.to_csv('speed_move_count.csv')"
     ],
     "language": "python",
     "metadata": {},
     "outputs": [],
     "prompt_number": 24
    },
    {
     "cell_type": "code",
     "collapsed": false,
     "input": [
      "k = 4\n",
      "\n",
      "K, C = kcluster.kcluster(uid_all_move_count_mean.values, correlation, k)\n",
      "\n",
      "print C"
     ],
     "language": "python",
     "metadata": {},
     "outputs": [
      {
       "output_type": "stream",
       "stream": "stdout",
       "text": [
        "Iteration 0\n",
        "Iteration 1"
       ]
      },
      {
       "output_type": "stream",
       "stream": "stdout",
       "text": [
        "\n",
        "Iteration 2"
       ]
      },
      {
       "output_type": "stream",
       "stream": "stdout",
       "text": [
        "\n",
        "Iteration 3"
       ]
      },
      {
       "output_type": "stream",
       "stream": "stdout",
       "text": [
        "\n",
        "Iteration 4"
       ]
      },
      {
       "output_type": "stream",
       "stream": "stdout",
       "text": [
        "\n",
        "Iteration 5"
       ]
      },
      {
       "output_type": "stream",
       "stream": "stdout",
       "text": [
        "\n",
        "Iteration 6"
       ]
      },
      {
       "output_type": "stream",
       "stream": "stdout",
       "text": [
        "\n",
        "Iteration 7"
       ]
      },
      {
       "output_type": "stream",
       "stream": "stdout",
       "text": [
        "\n",
        "Iteration 8"
       ]
      },
      {
       "output_type": "stream",
       "stream": "stdout",
       "text": [
        "\n",
        "Iteration 9"
       ]
      },
      {
       "output_type": "stream",
       "stream": "stdout",
       "text": [
        "\n",
        "Iteration 10"
       ]
      },
      {
       "output_type": "stream",
       "stream": "stdout",
       "text": [
        "\n",
        "Iteration 11"
       ]
      },
      {
       "output_type": "stream",
       "stream": "stdout",
       "text": [
        "\n",
        "Iteration 12"
       ]
      },
      {
       "output_type": "stream",
       "stream": "stdout",
       "text": [
        "\n",
        "Iteration 13"
       ]
      },
      {
       "output_type": "stream",
       "stream": "stdout",
       "text": [
        "\n",
        "Iteration 14"
       ]
      },
      {
       "output_type": "stream",
       "stream": "stdout",
       "text": [
        "\n",
        "Iteration 15"
       ]
      },
      {
       "output_type": "stream",
       "stream": "stdout",
       "text": [
        "\n",
        "Iteration 16"
       ]
      },
      {
       "output_type": "stream",
       "stream": "stdout",
       "text": [
        "\n",
        "Iteration 17"
       ]
      },
      {
       "output_type": "stream",
       "stream": "stdout",
       "text": [
        "\n",
        "Iteration 18"
       ]
      },
      {
       "output_type": "stream",
       "stream": "stdout",
       "text": [
        "\n",
        "Iteration 19"
       ]
      },
      {
       "output_type": "stream",
       "stream": "stdout",
       "text": [
        "\n",
        "Iteration 20"
       ]
      },
      {
       "output_type": "stream",
       "stream": "stdout",
       "text": [
        "\n",
        "Iteration 21"
       ]
      },
      {
       "output_type": "stream",
       "stream": "stdout",
       "text": [
        "\n",
        "Iteration 22"
       ]
      },
      {
       "output_type": "stream",
       "stream": "stdout",
       "text": [
        "\n",
        "Iteration 23"
       ]
      },
      {
       "output_type": "stream",
       "stream": "stdout",
       "text": [
        "\n",
        "Iteration 24"
       ]
      },
      {
       "output_type": "stream",
       "stream": "stdout",
       "text": [
        "\n",
        "Iteration 25"
       ]
      },
      {
       "output_type": "stream",
       "stream": "stdout",
       "text": [
        "\n",
        "Iteration 26"
       ]
      },
      {
       "output_type": "stream",
       "stream": "stdout",
       "text": [
        "\n",
        "Iteration 27"
       ]
      },
      {
       "output_type": "stream",
       "stream": "stdout",
       "text": [
        "\n",
        "Iteration 28"
       ]
      },
      {
       "output_type": "stream",
       "stream": "stdout",
       "text": [
        "\n",
        "Iteration 29"
       ]
      },
      {
       "output_type": "stream",
       "stream": "stdout",
       "text": [
        "\n",
        "Iteration 30"
       ]
      },
      {
       "output_type": "stream",
       "stream": "stdout",
       "text": [
        "\n",
        "[[2.2888961246557979, 3.5644113388774152, 1.8629436300502533, 0.79448349003181373], [4.2249924658802271, 3.7618404076187879, 3.187594402031269, 0.90392301497259142], [3.8269619524686527, 1.6845424082090812, 2.4848402567652252, 0.73251494167589681], [4.7888771800822267, 4.5871884098807154, 2.5013139020935413, 2.2288663868960858]]"
       ]
      },
      {
       "output_type": "stream",
       "stream": "stdout",
       "text": [
        "\n"
       ]
      }
     ],
     "prompt_number": 35
    },
    {
     "cell_type": "code",
     "collapsed": false,
     "input": [
      "pd.DataFrame(C, columns=uid_all_move_count_mean.columns, index=[1, 2, 3, 4]).T.plot(kind='bar', subplots=True, layout=(2, 2), sharey=True)\n",
      "labels = np.zeros(16216, dtype=int)\n",
      "for i in range(k):\n",
      "    labels[K[i]] = i\n",
      "print labels.shape\n",
      "print pd.Series(labels).value_counts()\n",
      "print uid_all_move_count_mean.values\n",
      "print silhouette_score(uid_all_move_count_mean.values, labels, correlation)\n",
      "print map(len, K)"
     ],
     "language": "python",
     "metadata": {},
     "outputs": [
      {
       "output_type": "stream",
       "stream": "stdout",
       "text": [
        "(16216,)\n",
        "1    5081\n",
        "2    4950\n",
        "0    4495\n",
        "3    1690\n",
        "dtype: int64\n",
        "[[ 2.84210526  1.57142857  2.30769231  0.19230769]\n",
        " [ 3.36363636  2.42857143  2.13793103  1.        ]\n",
        " [ 3.77272727  1.22222222  2.61290323  0.41935484]\n",
        " ..., \n",
        " [ 4.27777778  5.22222222  3.22222222  1.37037037]\n",
        " [ 4.95        3.33333333  4.03448276  0.4137931 ]\n",
        " [ 3.22727273  5.11111111  2.41935484  1.35483871]]\n"
       ]
      },
      {
       "ename": "KeyboardInterrupt",
       "evalue": "",
       "output_type": "pyerr",
       "traceback": [
        "\u001b[0;31m---------------------------------------------------------------------------\u001b[0m\n\u001b[0;31mKeyboardInterrupt\u001b[0m                         Traceback (most recent call last)",
        "\u001b[0;32m<ipython-input-50-7f25409c1c5f>\u001b[0m in \u001b[0;36m<module>\u001b[0;34m()\u001b[0m\n\u001b[1;32m      6\u001b[0m \u001b[0;32mprint\u001b[0m \u001b[0mpd\u001b[0m\u001b[0;34m.\u001b[0m\u001b[0mSeries\u001b[0m\u001b[0;34m(\u001b[0m\u001b[0mlabels\u001b[0m\u001b[0;34m)\u001b[0m\u001b[0;34m.\u001b[0m\u001b[0mvalue_counts\u001b[0m\u001b[0;34m(\u001b[0m\u001b[0;34m)\u001b[0m\u001b[0;34m\u001b[0m\u001b[0m\n\u001b[1;32m      7\u001b[0m \u001b[0;32mprint\u001b[0m \u001b[0muid_all_move_count_mean\u001b[0m\u001b[0;34m.\u001b[0m\u001b[0mvalues\u001b[0m\u001b[0;34m\u001b[0m\u001b[0m\n\u001b[0;32m----> 8\u001b[0;31m \u001b[0;32mprint\u001b[0m \u001b[0msilhouette_score\u001b[0m\u001b[0;34m(\u001b[0m\u001b[0muid_all_move_count_mean\u001b[0m\u001b[0;34m.\u001b[0m\u001b[0mvalues\u001b[0m\u001b[0;34m,\u001b[0m \u001b[0mlabels\u001b[0m\u001b[0;34m,\u001b[0m \u001b[0mcorrelation\u001b[0m\u001b[0;34m)\u001b[0m\u001b[0;34m\u001b[0m\u001b[0m\n\u001b[0m\u001b[1;32m      9\u001b[0m \u001b[0;32mprint\u001b[0m \u001b[0mmap\u001b[0m\u001b[0;34m(\u001b[0m\u001b[0mlen\u001b[0m\u001b[0;34m,\u001b[0m \u001b[0mK\u001b[0m\u001b[0;34m)\u001b[0m\u001b[0;34m\u001b[0m\u001b[0m\n",
        "\u001b[0;32m/Users/xushanchuan/projects/back-mobile-data-visualization/kcluster.pyc\u001b[0m in \u001b[0;36msilhouette_score\u001b[0;34m(X, labels, dist)\u001b[0m\n\u001b[1;32m     98\u001b[0m \u001b[0;34m\u001b[0m\u001b[0m\n\u001b[1;32m     99\u001b[0m \u001b[0;32mdef\u001b[0m \u001b[0msilhouette_score\u001b[0m\u001b[0;34m(\u001b[0m\u001b[0mX\u001b[0m\u001b[0;34m,\u001b[0m \u001b[0mlabels\u001b[0m\u001b[0;34m,\u001b[0m \u001b[0mdist\u001b[0m\u001b[0;34m)\u001b[0m\u001b[0;34m:\u001b[0m\u001b[0;34m\u001b[0m\u001b[0m\n\u001b[0;32m--> 100\u001b[0;31m     \u001b[0;32mreturn\u001b[0m \u001b[0mnp\u001b[0m\u001b[0;34m.\u001b[0m\u001b[0mmean\u001b[0m\u001b[0;34m(\u001b[0m\u001b[0;34m[\u001b[0m\u001b[0msilhouette_coef\u001b[0m\u001b[0;34m(\u001b[0m\u001b[0mi\u001b[0m\u001b[0;34m,\u001b[0m \u001b[0mX\u001b[0m\u001b[0;34m,\u001b[0m \u001b[0mlabels\u001b[0m\u001b[0;34m,\u001b[0m \u001b[0mdist\u001b[0m\u001b[0;34m)\u001b[0m \u001b[0;32mfor\u001b[0m \u001b[0mi\u001b[0m \u001b[0;32min\u001b[0m \u001b[0mxrange\u001b[0m\u001b[0;34m(\u001b[0m\u001b[0mlen\u001b[0m\u001b[0;34m(\u001b[0m\u001b[0mX\u001b[0m\u001b[0;34m)\u001b[0m\u001b[0;34m)\u001b[0m\u001b[0;34m]\u001b[0m\u001b[0;34m)\u001b[0m\u001b[0;34m\u001b[0m\u001b[0m\n\u001b[0m\u001b[1;32m    101\u001b[0m \u001b[0;34m\u001b[0m\u001b[0m\n\u001b[1;32m    102\u001b[0m \u001b[0;34m\u001b[0m\u001b[0m\n",
        "\u001b[0;32m/Users/xushanchuan/projects/back-mobile-data-visualization/kcluster.pyc\u001b[0m in \u001b[0;36msilhouette_coef\u001b[0;34m(idx, X, labels, dist)\u001b[0m\n\u001b[1;32m     91\u001b[0m         \u001b[0moutdist\u001b[0m \u001b[0;34m=\u001b[0m \u001b[0mnp\u001b[0m\u001b[0;34m.\u001b[0m\u001b[0mempty\u001b[0m\u001b[0;34m(\u001b[0m\u001b[0mlen\u001b[0m\u001b[0;34m(\u001b[0m\u001b[0moutcluster\u001b[0m\u001b[0;34m)\u001b[0m\u001b[0;34m)\u001b[0m\u001b[0;34m\u001b[0m\u001b[0m\n\u001b[1;32m     92\u001b[0m         \u001b[0;32mfor\u001b[0m \u001b[0mi\u001b[0m \u001b[0;32min\u001b[0m \u001b[0mnp\u001b[0m\u001b[0;34m.\u001b[0m\u001b[0marange\u001b[0m\u001b[0;34m(\u001b[0m\u001b[0mlen\u001b[0m\u001b[0;34m(\u001b[0m\u001b[0moutcluster\u001b[0m\u001b[0;34m)\u001b[0m\u001b[0;34m)\u001b[0m\u001b[0;34m:\u001b[0m\u001b[0;34m\u001b[0m\u001b[0m\n\u001b[0;32m---> 93\u001b[0;31m             \u001b[0moutdist\u001b[0m\u001b[0;34m[\u001b[0m\u001b[0mi\u001b[0m\u001b[0;34m]\u001b[0m \u001b[0;34m=\u001b[0m \u001b[0mdist\u001b[0m\u001b[0;34m(\u001b[0m\u001b[0mX\u001b[0m\u001b[0;34m[\u001b[0m\u001b[0midx\u001b[0m\u001b[0;34m]\u001b[0m\u001b[0;34m,\u001b[0m \u001b[0moutcluster\u001b[0m\u001b[0;34m[\u001b[0m\u001b[0mi\u001b[0m\u001b[0;34m]\u001b[0m\u001b[0;34m)\u001b[0m\u001b[0;34m\u001b[0m\u001b[0m\n\u001b[0m\u001b[1;32m     94\u001b[0m         \u001b[0moutdists\u001b[0m\u001b[0;34m[\u001b[0m\u001b[0moutlabel\u001b[0m\u001b[0;34m]\u001b[0m \u001b[0;34m=\u001b[0m \u001b[0mnp\u001b[0m\u001b[0;34m.\u001b[0m\u001b[0mmean\u001b[0m\u001b[0;34m(\u001b[0m\u001b[0moutdist\u001b[0m\u001b[0;34m)\u001b[0m\u001b[0;34m\u001b[0m\u001b[0m\n\u001b[1;32m     95\u001b[0m \u001b[0;34m\u001b[0m\u001b[0m\n",
        "\u001b[0;32m/usr/local/lib/python2.7/site-packages/scipy/spatial/distance.pyc\u001b[0m in \u001b[0;36mcorrelation\u001b[0;34m(u, v)\u001b[0m\n\u001b[1;32m    319\u001b[0m     \u001b[0mu\u001b[0m \u001b[0;34m=\u001b[0m \u001b[0m_validate_vector\u001b[0m\u001b[0;34m(\u001b[0m\u001b[0mu\u001b[0m\u001b[0;34m)\u001b[0m\u001b[0;34m\u001b[0m\u001b[0m\n\u001b[1;32m    320\u001b[0m     \u001b[0mv\u001b[0m \u001b[0;34m=\u001b[0m \u001b[0m_validate_vector\u001b[0m\u001b[0;34m(\u001b[0m\u001b[0mv\u001b[0m\u001b[0;34m)\u001b[0m\u001b[0;34m\u001b[0m\u001b[0m\n\u001b[0;32m--> 321\u001b[0;31m     \u001b[0mumu\u001b[0m \u001b[0;34m=\u001b[0m \u001b[0mu\u001b[0m\u001b[0;34m.\u001b[0m\u001b[0mmean\u001b[0m\u001b[0;34m(\u001b[0m\u001b[0;34m)\u001b[0m\u001b[0;34m\u001b[0m\u001b[0m\n\u001b[0m\u001b[1;32m    322\u001b[0m     \u001b[0mvmu\u001b[0m \u001b[0;34m=\u001b[0m \u001b[0mv\u001b[0m\u001b[0;34m.\u001b[0m\u001b[0mmean\u001b[0m\u001b[0;34m(\u001b[0m\u001b[0;34m)\u001b[0m\u001b[0;34m\u001b[0m\u001b[0m\n\u001b[1;32m    323\u001b[0m     \u001b[0mum\u001b[0m \u001b[0;34m=\u001b[0m \u001b[0mu\u001b[0m \u001b[0;34m-\u001b[0m \u001b[0mumu\u001b[0m\u001b[0;34m\u001b[0m\u001b[0m\n",
        "\u001b[0;32m/usr/local/lib/python2.7/site-packages/numpy/core/_methods.pyc\u001b[0m in \u001b[0;36m_mean\u001b[0;34m(a, axis, dtype, out, keepdims)\u001b[0m\n\u001b[1;32m     69\u001b[0m                 ret, rcount, out=ret, casting='unsafe', subok=False)\n\u001b[1;32m     70\u001b[0m     \u001b[0;32melif\u001b[0m \u001b[0mhasattr\u001b[0m\u001b[0;34m(\u001b[0m\u001b[0mret\u001b[0m\u001b[0;34m,\u001b[0m \u001b[0;34m'dtype'\u001b[0m\u001b[0;34m)\u001b[0m\u001b[0;34m:\u001b[0m\u001b[0;34m\u001b[0m\u001b[0m\n\u001b[0;32m---> 71\u001b[0;31m         \u001b[0mret\u001b[0m \u001b[0;34m=\u001b[0m \u001b[0mret\u001b[0m\u001b[0;34m.\u001b[0m\u001b[0mdtype\u001b[0m\u001b[0;34m.\u001b[0m\u001b[0mtype\u001b[0m\u001b[0;34m(\u001b[0m\u001b[0mret\u001b[0m \u001b[0;34m/\u001b[0m \u001b[0mrcount\u001b[0m\u001b[0;34m)\u001b[0m\u001b[0;34m\u001b[0m\u001b[0m\n\u001b[0m\u001b[1;32m     72\u001b[0m     \u001b[0;32melse\u001b[0m\u001b[0;34m:\u001b[0m\u001b[0;34m\u001b[0m\u001b[0m\n\u001b[1;32m     73\u001b[0m         \u001b[0mret\u001b[0m \u001b[0;34m=\u001b[0m \u001b[0mret\u001b[0m \u001b[0;34m/\u001b[0m \u001b[0mrcount\u001b[0m\u001b[0;34m\u001b[0m\u001b[0m\n",
        "\u001b[0;31mKeyboardInterrupt\u001b[0m: "
       ]
      },
      {
       "metadata": {},
       "output_type": "display_data",
       "png": "[encoded data removed]",
       "text": [
        "<matplotlib.figure.Figure at 0x10cd410d0>"
       ]
      }
     ],
     "prompt_number": 50
    }
   ],
   "metadata": {}
  }
 ]
}